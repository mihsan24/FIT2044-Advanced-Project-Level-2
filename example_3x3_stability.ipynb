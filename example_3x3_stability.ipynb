{
 "cells": [
  {
   "cell_type": "code",
   "execution_count": 1,
   "metadata": {
    "collapsed": false
   },
   "outputs": [
    {
     "name": "stdout",
     "output_type": "stream",
     "text": [
      "Populating the interactive namespace from numpy and matplotlib\n"
     ]
    }
   ],
   "source": [
    "%pylab inline"
   ]
  },
  {
   "cell_type": "code",
   "execution_count": 7,
   "metadata": {
    "collapsed": true
   },
   "outputs": [],
   "source": [
    "from sympy import *\n"
   ]
  },
  {
   "cell_type": "code",
   "execution_count": 8,
   "metadata": {
    "collapsed": true
   },
   "outputs": [],
   "source": [
    "import sympy as sp\n",
    "\n",
    "\n",
    "def pi0(x, y, matrix):\n",
    "    return x * (matrix[0][0] - matrix[0][2]) + y * (matrix[0][1] - matrix[0][2]) + matrix[0][2]\n",
    "\n",
    "def pi1(x, y, matrix):\n",
    "    return x * (matrix[1][0] - matrix[1][2]) + y * (matrix[1][1] - matrix[1][2]) + matrix[1][2]\n",
    "\n",
    "def pi2(x, y, matrix):\n",
    "    return x * (matrix[2][0] - matrix[2][2]) + y * (matrix[2][1] - matrix[2][2]) + matrix[2][2]\n",
    "\n",
    "def avg_pi(x, y, matrix):\n",
    "    return x * pi0(x, y, matrix) + y * pi1(x, y, matrix) + (1 - (x + y)) * pi2(x, y, matrix)\n",
    "\n",
    "def deltax_deltat(x, y, matrix):\n",
    "    return x * (pi0(x, y, matrix) - avg_pi(x, y, matrix))\n",
    "\n",
    "def deltay_deltat(x, y, matrix):\n",
    "    return y * (pi1(x, y, matrix) - avg_pi(x, y, matrix))\n",
    "\n",
    "def deltaz_deltat(x, y, matrix):\n",
    "    return (1 - (x + y)) * (pi2(x, y, matrix) - avg_pi(x, y, matrix))"
   ]
  },
  {
   "cell_type": "code",
   "execution_count": 16,
   "metadata": {
    "collapsed": false
   },
   "outputs": [],
   "source": [
    "input_matrix = [[0, 6, -4], [-3, 0, 5], [-1, 3, 0]]\n",
    "s = sp.symbols('s')\n",
    "t = sp.symbols('t')\n",
    "x = deltax_deltat(s, t, input_matrix)\n",
    "y = deltay_deltat(s, t, input_matrix)"
   ]
  },
  {
   "cell_type": "code",
   "execution_count": 26,
   "metadata": {
    "collapsed": false
   },
   "outputs": [
    {
     "data": {
      "image/png": "[encoded data removed]",
      "text/latex": [
       "$$x \\left(- x \\left(4 x + 10 y - 4\\right) + 4 x - y \\left(- 8 x - 5 y + 5\\right) + 10 y - \\left(- x + 3 y\\right) \\left(- x - y + 1\\right) - 4\\right)$$"
      ],
      "text/plain": [
       "x⋅(-x⋅(4⋅x + 10⋅y - 4) + 4⋅x - y⋅(-8⋅x - 5⋅y + 5) + 10⋅y - (-x + 3⋅y)⋅(-x - y \n",
       "+ 1) - 4)"
      ]
     },
     "execution_count": 26,
     "metadata": {},
     "output_type": "execute_result"
    }
   ],
   "source": [
    "x = sp.symbols('x')\n",
    "y = sp.symbols('y')\n",
    "dxdt = deltax_deltat(x, y, input_matrix)\n",
    "dxdt"
   ]
  },
  {
   "cell_type": "code",
   "execution_count": 41,
   "metadata": {
    "collapsed": false
   },
   "outputs": [
    {
     "data": {
      "image/png": "[encoded data removed]",
      "text/latex": [
       "$$y \\left(- x \\left(4 x + 10 y - 4\\right) - 8 x - y \\left(- 8 x - 5 y + 5\\right) - 5 y - \\left(- x + 3 y\\right) \\left(- x - y + 1\\right) + 5\\right)$$"
      ],
      "text/plain": [
       "y⋅(-x⋅(4⋅x + 10⋅y - 4) - 8⋅x - y⋅(-8⋅x - 5⋅y + 5) - 5⋅y - (-x + 3⋅y)⋅(-x - y +\n",
       " 1) + 5)"
      ]
     },
     "execution_count": 41,
     "metadata": {},
     "output_type": "execute_result"
    }
   ],
   "source": [
    "x = sp.symbols('x')\n",
    "y = sp.symbols('y')\n",
    "dydt = deltay_deltat(x, y, input_matrix)\n",
    "dydt"
   ]
  },
  {
   "cell_type": "code",
   "execution_count": 65,
   "metadata": {
    "collapsed": false
   },
   "outputs": [],
   "source": [
    "A = np.zeros((2, 2))"
   ]
  },
  {
   "cell_type": "code",
   "execution_count": 66,
   "metadata": {
    "collapsed": false
   },
   "outputs": [],
   "source": [
    "A[0, 0] = float(sp.diff(dxdt, x).evalf(subs={x:0, y:0.625}))"
   ]
  },
  {
   "cell_type": "code",
   "execution_count": 67,
   "metadata": {
    "collapsed": false
   },
   "outputs": [],
   "source": [
    "A[0, 1] = float(sp.diff(dxdt, y).evalf(subs={x:0, y:0.625}))"
   ]
  },
  {
   "cell_type": "code",
   "execution_count": 68,
   "metadata": {
    "collapsed": true
   },
   "outputs": [],
   "source": [
    "A[1, 0] = float(sp.diff(dydt, x).evalf(subs={x:0, y:0.625}))"
   ]
  },
  {
   "cell_type": "code",
   "execution_count": 69,
   "metadata": {
    "collapsed": true
   },
   "outputs": [],
   "source": [
    "A[1, 1] = float(sp.diff(dydt, y).evalf(subs={x:0, y:0.625}))"
   ]
  },
  {
   "cell_type": "code",
   "execution_count": 70,
   "metadata": {
    "collapsed": false
   },
   "outputs": [
    {
     "data": {
      "text/plain": [
       "array([[ 0.375,  0.   ],\n",
       "       [-1.875, -1.875]])"
      ]
     },
     "execution_count": 70,
     "metadata": {},
     "output_type": "execute_result"
    }
   ],
   "source": [
    "A"
   ]
  },
  {
   "cell_type": "code",
   "execution_count": 71,
   "metadata": {
    "collapsed": false
   },
   "outputs": [
    {
     "data": {
      "text/plain": [
       "array([-1.875,  0.375])"
      ]
     },
     "execution_count": 71,
     "metadata": {},
     "output_type": "execute_result"
    }
   ],
   "source": [
    "np.linalg.eigvals(A)"
   ]
  },
  {
   "cell_type": "code",
   "execution_count": null,
   "metadata": {
    "collapsed": true
   },
   "outputs": [],
   "source": []
  }
 ],
 "metadata": {
  "kernelspec": {
   "display_name": "Python 3",
   "language": "python",
   "name": "python3"
  },
  "language_info": {
   "codemirror_mode": {
    "name": "ipython",
    "version": 3
   },
   "file_extension": ".py",
   "mimetype": "text/x-python",
   "name": "python",
   "nbconvert_exporter": "python",
   "pygments_lexer": "ipython3",
   "version": "3.3.5"
  }
 },
 "nbformat": 4,
 "nbformat_minor": 0
}

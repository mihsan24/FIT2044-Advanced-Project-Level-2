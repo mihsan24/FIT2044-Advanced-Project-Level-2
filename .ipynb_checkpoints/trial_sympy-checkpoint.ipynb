{
 "cells": [
  {
   "cell_type": "code",
   "execution_count": 1,
   "metadata": {
    "collapsed": false
   },
   "outputs": [
    {
     "name": "stdout",
     "output_type": "stream",
     "text": [
      "Using matplotlib backend: MacOSX\n",
      "Populating the interactive namespace from numpy and matplotlib\n"
     ]
    }
   ],
   "source": [
    "%pylab"
   ]
  },
  {
   "cell_type": "markdown",
   "metadata": {},
   "source": [
    "#Example on simpy"
   ]
  },
  {
   "cell_type": "code",
   "execution_count": 2,
   "metadata": {
    "collapsed": false
   },
   "outputs": [
    {
     "data": {
      "text/plain": [
       "[(0, 0, 0),\n",
       " (-sqrt(beta*(rho - 1)), -sqrt(beta*(rho - 1)), rho - 1),\n",
       " (sqrt(beta*(rho - 1)), sqrt(beta*(rho - 1)), rho - 1)]"
      ]
     },
     "execution_count": 2,
     "metadata": {},
     "output_type": "execute_result"
    }
   ],
   "source": [
    "import sympy as sp\n",
    "x, y, z = sp.symbols('x, y, z')\n",
    "rho, sigma, beta = sp.symbols('rho, sigma, beta')\n",
    "f1 = sigma * (y - x)\n",
    "f2 = x * (rho - z) - y\n",
    "f3 = x * y - beta * z\n",
    "sp.solvers.solve((f1, f2, f3), (x, y, z))"
   ]
  },
  {
   "cell_type": "markdown",
   "metadata": {},
   "source": [
    "#Trying out to come up with the system"
   ]
  },
  {
   "cell_type": "code",
   "execution_count": 3,
   "metadata": {
    "collapsed": true
   },
   "outputs": [],
   "source": [
    "matrix = np.array([[5,7,2],[8,6, 5],[1, 8, 4]])"
   ]
  },
  {
   "cell_type": "code",
   "execution_count": 7,
   "metadata": {
    "collapsed": false
   },
   "outputs": [],
   "source": [
    "x, y, z, avg = sp.symbols('x, y, z, avg')"
   ]
  },
  {
   "cell_type": "code",
   "execution_count": 8,
   "metadata": {
    "collapsed": true
   },
   "outputs": [],
   "source": [
    "payoff_a = x*matrix[0, 0] + y*matrix[0, 1] + (1-(x+y))*matrix[0, 2]\n",
    "payoff_b = x*matrix[1, 0] + y*matrix[1, 1] + (1-(x+y))*matrix[1, 2]\n",
    "payoff_c = x*matrix[2, 0] + y*matrix[2, 1] + (1-(x+y))*matrix[2, 2]\n",
    "avg = payoff_a*x+payoff_b*y+payoff_c*(1-(x+y))"
   ]
  },
  {
   "cell_type": "code",
   "execution_count": 10,
   "metadata": {
    "collapsed": false
   },
   "outputs": [],
   "source": [
    "dyn_a = x*(payoff_a - avg)\n",
    "dyn_b = y*(payoff_b - avg)\n",
    "dyn_c = (1-(x+y))*(payoff_c - avg)"
   ]
  },
  {
   "cell_type": "code",
   "execution_count": 11,
   "metadata": {
    "collapsed": false
   },
   "outputs": [
    {
     "data": {
      "text/plain": [
       "[(0.0, 0.0),\n",
       " (0.0, 0.333333333333333),\n",
       " (0.0, 1.00000000000000),\n",
       " (0.208333333333333, 0.750000000000000),\n",
       " (0.250000000000000, 0.750000000000000),\n",
       " (0.333333333333333, 0.0),\n",
       " (1.00000000000000, 0.0)]"
      ]
     },
     "execution_count": 11,
     "metadata": {},
     "output_type": "execute_result"
    }
   ],
   "source": [
    "sp.solvers.solve((dyn_a, dyn_b, dyn_c), (x, y))"
   ]
  },
  {
   "cell_type": "code",
   "execution_count": null,
   "metadata": {
    "collapsed": true
   },
   "outputs": [],
   "source": []
  }
 ],
 "metadata": {
  "kernelspec": {
   "display_name": "Python 3",
   "language": "python",
   "name": "python3"
  },
  "language_info": {
   "codemirror_mode": {
    "name": "ipython",
    "version": 3
   },
   "file_extension": ".py",
   "mimetype": "text/x-python",
   "name": "python",
   "nbconvert_exporter": "python",
   "pygments_lexer": "ipython3",
   "version": "3.3.5"
  }
 },
 "nbformat": 4,
 "nbformat_minor": 0
}
